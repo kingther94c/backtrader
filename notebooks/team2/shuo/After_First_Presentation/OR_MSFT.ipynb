{
 "cells": [
  {
   "cell_type": "code",
   "execution_count": 6,
   "metadata": {},
   "outputs": [],
   "source": [
    "import Stats_Collector as sc\n",
    "import numpy as np\n",
    "import os"
   ]
  },
  {
   "cell_type": "code",
   "execution_count": 2,
   "metadata": {},
   "outputs": [
    {
     "data": {
      "text/html": [
       "<div>\n",
       "<style>\n",
       "    .dataframe thead tr:only-child th {\n",
       "        text-align: right;\n",
       "    }\n",
       "\n",
       "    .dataframe thead th {\n",
       "        text-align: left;\n",
       "    }\n",
       "\n",
       "    .dataframe tbody tr th {\n",
       "        vertical-align: top;\n",
       "    }\n",
       "</style>\n",
       "<table border=\"1\" class=\"dataframe\">\n",
       "  <thead>\n",
       "    <tr style=\"text-align: right;\">\n",
       "      <th></th>\n",
       "      <th>10dORHV</th>\n",
       "      <th>sma_dn_5_30</th>\n",
       "      <th>sma_up_50_200</th>\n",
       "      <th>ema_dn_12_26</th>\n",
       "      <th>rsi_os_30</th>\n",
       "      <th>rsi_ob_70</th>\n",
       "      <th>lrsi_os_03</th>\n",
       "      <th>tsi_ob</th>\n",
       "      <th>cci_os</th>\n",
       "      <th>cci_ob</th>\n",
       "      <th>wr_os</th>\n",
       "      <th>bband_brkdn</th>\n",
       "      <th>pgo_brkout</th>\n",
       "      <th>pgo_brkdn</th>\n",
       "      <th>dpo_os</th>\n",
       "      <th>dpo_ob</th>\n",
       "    </tr>\n",
       "    <tr>\n",
       "      <th>datetime.1</th>\n",
       "      <th></th>\n",
       "      <th></th>\n",
       "      <th></th>\n",
       "      <th></th>\n",
       "      <th></th>\n",
       "      <th></th>\n",
       "      <th></th>\n",
       "      <th></th>\n",
       "      <th></th>\n",
       "      <th></th>\n",
       "      <th></th>\n",
       "      <th></th>\n",
       "      <th></th>\n",
       "      <th></th>\n",
       "      <th></th>\n",
       "      <th></th>\n",
       "    </tr>\n",
       "  </thead>\n",
       "  <tbody>\n",
       "    <tr>\n",
       "      <th>2010-01-04</th>\n",
       "      <td>15.67</td>\n",
       "      <td>NaN</td>\n",
       "      <td>NaN</td>\n",
       "      <td>NaN</td>\n",
       "      <td>NaN</td>\n",
       "      <td>NaN</td>\n",
       "      <td>NaN</td>\n",
       "      <td>NaN</td>\n",
       "      <td>NaN</td>\n",
       "      <td>NaN</td>\n",
       "      <td>NaN</td>\n",
       "      <td>NaN</td>\n",
       "      <td>NaN</td>\n",
       "      <td>NaN</td>\n",
       "      <td>NaN</td>\n",
       "      <td>NaN</td>\n",
       "    </tr>\n",
       "    <tr>\n",
       "      <th>2010-01-05</th>\n",
       "      <td>12.79</td>\n",
       "      <td>NaN</td>\n",
       "      <td>NaN</td>\n",
       "      <td>NaN</td>\n",
       "      <td>NaN</td>\n",
       "      <td>NaN</td>\n",
       "      <td>NaN</td>\n",
       "      <td>NaN</td>\n",
       "      <td>NaN</td>\n",
       "      <td>NaN</td>\n",
       "      <td>NaN</td>\n",
       "      <td>NaN</td>\n",
       "      <td>NaN</td>\n",
       "      <td>NaN</td>\n",
       "      <td>NaN</td>\n",
       "      <td>NaN</td>\n",
       "    </tr>\n",
       "    <tr>\n",
       "      <th>2010-01-06</th>\n",
       "      <td>12.70</td>\n",
       "      <td>NaN</td>\n",
       "      <td>NaN</td>\n",
       "      <td>NaN</td>\n",
       "      <td>NaN</td>\n",
       "      <td>NaN</td>\n",
       "      <td>NaN</td>\n",
       "      <td>NaN</td>\n",
       "      <td>NaN</td>\n",
       "      <td>NaN</td>\n",
       "      <td>NaN</td>\n",
       "      <td>NaN</td>\n",
       "      <td>NaN</td>\n",
       "      <td>NaN</td>\n",
       "      <td>NaN</td>\n",
       "      <td>NaN</td>\n",
       "    </tr>\n",
       "    <tr>\n",
       "      <th>2010-01-07</th>\n",
       "      <td>12.97</td>\n",
       "      <td>NaN</td>\n",
       "      <td>NaN</td>\n",
       "      <td>NaN</td>\n",
       "      <td>NaN</td>\n",
       "      <td>NaN</td>\n",
       "      <td>NaN</td>\n",
       "      <td>NaN</td>\n",
       "      <td>NaN</td>\n",
       "      <td>NaN</td>\n",
       "      <td>NaN</td>\n",
       "      <td>NaN</td>\n",
       "      <td>NaN</td>\n",
       "      <td>NaN</td>\n",
       "      <td>NaN</td>\n",
       "      <td>NaN</td>\n",
       "    </tr>\n",
       "    <tr>\n",
       "      <th>2010-01-08</th>\n",
       "      <td>13.25</td>\n",
       "      <td>NaN</td>\n",
       "      <td>NaN</td>\n",
       "      <td>NaN</td>\n",
       "      <td>NaN</td>\n",
       "      <td>NaN</td>\n",
       "      <td>NaN</td>\n",
       "      <td>NaN</td>\n",
       "      <td>NaN</td>\n",
       "      <td>NaN</td>\n",
       "      <td>NaN</td>\n",
       "      <td>NaN</td>\n",
       "      <td>NaN</td>\n",
       "      <td>NaN</td>\n",
       "      <td>NaN</td>\n",
       "      <td>NaN</td>\n",
       "    </tr>\n",
       "  </tbody>\n",
       "</table>\n",
       "</div>"
      ],
      "text/plain": [
       "            10dORHV  sma_dn_5_30  sma_up_50_200  ema_dn_12_26  rsi_os_30  \\\n",
       "datetime.1                                                                 \n",
       "2010-01-04    15.67          NaN            NaN           NaN        NaN   \n",
       "2010-01-05    12.79          NaN            NaN           NaN        NaN   \n",
       "2010-01-06    12.70          NaN            NaN           NaN        NaN   \n",
       "2010-01-07    12.97          NaN            NaN           NaN        NaN   \n",
       "2010-01-08    13.25          NaN            NaN           NaN        NaN   \n",
       "\n",
       "            rsi_ob_70  lrsi_os_03  tsi_ob  cci_os  cci_ob  wr_os  bband_brkdn  \\\n",
       "datetime.1                                                                      \n",
       "2010-01-04        NaN         NaN     NaN     NaN     NaN    NaN          NaN   \n",
       "2010-01-05        NaN         NaN     NaN     NaN     NaN    NaN          NaN   \n",
       "2010-01-06        NaN         NaN     NaN     NaN     NaN    NaN          NaN   \n",
       "2010-01-07        NaN         NaN     NaN     NaN     NaN    NaN          NaN   \n",
       "2010-01-08        NaN         NaN     NaN     NaN     NaN    NaN          NaN   \n",
       "\n",
       "            pgo_brkout  pgo_brkdn  dpo_os  dpo_ob  \n",
       "datetime.1                                         \n",
       "2010-01-04         NaN        NaN     NaN     NaN  \n",
       "2010-01-05         NaN        NaN     NaN     NaN  \n",
       "2010-01-06         NaN        NaN     NaN     NaN  \n",
       "2010-01-07         NaN        NaN     NaN     NaN  \n",
       "2010-01-08         NaN        NaN     NaN     NaN  "
      ]
     },
     "execution_count": 2,
     "metadata": {},
     "output_type": "execute_result"
    }
   ],
   "source": [
    "dir_path = \"/Users/lishuo/Desktop/NYU_Academics/NYU_Spring_2018/Capstone Project/After_First_Presentation/Meeting_04052018\"\n",
    "TICK = \"MSFT\"\n",
    "file_name = TICK+\"_Signal_Input.xlsx\"\n",
    "input_path = os.path.join(dir_path,file_name)\n",
    "date_ind = 0\n",
    "data = sc.read_data(\"excel\",input_path,date_ind)\n",
    "data.head()"
   ]
  },
  {
   "cell_type": "code",
   "execution_count": 3,
   "metadata": {},
   "outputs": [
    {
     "data": {
      "text/plain": [
       "Index(['10dORHV', 'sma_dn_5_30', 'sma_up_50_200', 'ema_dn_12_26', 'rsi_os_30',\n",
       "       'rsi_ob_70', 'lrsi_os_03', 'tsi_ob', 'cci_os', 'cci_ob', 'wr_os',\n",
       "       'bband_brkdn', 'pgo_brkout', 'pgo_brkdn', 'dpo_os', 'dpo_ob'],\n",
       "      dtype='object')"
      ]
     },
     "execution_count": 3,
     "metadata": {},
     "output_type": "execute_result"
    }
   ],
   "source": [
    "data.columns"
   ]
  },
  {
   "cell_type": "code",
   "execution_count": 4,
   "metadata": {},
   "outputs": [],
   "source": [
    "col_list = data.columns[1:]"
   ]
  },
  {
   "cell_type": "code",
   "execution_count": 7,
   "metadata": {},
   "outputs": [],
   "source": [
    "min_trig = 160\n",
    "max_trig = 800\n",
    "data_combo = sc.generate_combo(data,col_list,min_trig,max_trig,\"or\")\n",
    "#data_combo222 = generate_and_combo2(data,col_list,min_trig,max_trig,\"or\")"
   ]
  },
  {
   "cell_type": "code",
   "execution_count": 8,
   "metadata": {},
   "outputs": [
    {
     "data": {
      "text/plain": [
       "(2023, 76)"
      ]
     },
     "execution_count": 8,
     "metadata": {},
     "output_type": "execute_result"
    }
   ],
   "source": [
    "filename_1 = TICK+\"_OR_Combo.csv\"\n",
    "data_combo.to_csv(os.path.join(dir_path,filename_1))\n",
    "data_combo.shape"
   ]
  },
  {
   "cell_type": "code",
   "execution_count": 9,
   "metadata": {},
   "outputs": [
    {
     "data": {
      "text/plain": [
       "Index(['10dORHV', 'sma_dn_5_30', 'sma_up_50_200', 'ema_dn_12_26', 'rsi_os_30',\n",
       "       'rsi_ob_70', 'lrsi_os_03', 'tsi_ob', 'cci_os', 'cci_ob', 'wr_os',\n",
       "       'bband_brkdn', 'pgo_brkout', 'pgo_brkdn', 'dpo_os', 'dpo_ob',\n",
       "       'sma_dn_5_30_rsi_os_30_OR', 'sma_dn_5_30_rsi_ob_70_OR',\n",
       "       'sma_dn_5_30_lrsi_os_03_OR', 'sma_dn_5_30_tsi_ob_OR',\n",
       "       'sma_dn_5_30_cci_os_OR', 'sma_dn_5_30_cci_ob_OR',\n",
       "       'sma_dn_5_30_wr_os_OR', 'sma_dn_5_30_dpo_os_OR',\n",
       "       'sma_up_50_200_rsi_os_30_OR', 'sma_up_50_200_rsi_ob_70_OR',\n",
       "       'sma_up_50_200_lrsi_os_03_OR', 'sma_up_50_200_cci_os_OR',\n",
       "       'sma_up_50_200_cci_ob_OR', 'sma_up_50_200_wr_os_OR',\n",
       "       'sma_up_50_200_dpo_os_OR', 'ema_dn_12_26_rsi_os_30_OR',\n",
       "       'ema_dn_12_26_rsi_ob_70_OR', 'ema_dn_12_26_lrsi_os_03_OR',\n",
       "       'ema_dn_12_26_tsi_ob_OR', 'ema_dn_12_26_cci_os_OR',\n",
       "       'ema_dn_12_26_cci_ob_OR', 'ema_dn_12_26_wr_os_OR',\n",
       "       'ema_dn_12_26_dpo_os_OR', 'rsi_os_30_rsi_ob_70_OR',\n",
       "       'rsi_os_30_lrsi_os_03_OR', 'rsi_os_30_tsi_ob_OR', 'rsi_os_30_cci_os_OR',\n",
       "       'rsi_os_30_cci_ob_OR', 'rsi_os_30_wr_os_OR', 'rsi_os_30_bband_brkdn_OR',\n",
       "       'rsi_os_30_pgo_brkout_OR', 'rsi_os_30_pgo_brkdn_OR',\n",
       "       'rsi_os_30_dpo_os_OR', 'rsi_ob_70_lrsi_os_03_OR', 'rsi_ob_70_cci_os_OR',\n",
       "       'rsi_ob_70_cci_ob_OR', 'rsi_ob_70_wr_os_OR', 'rsi_ob_70_bband_brkdn_OR',\n",
       "       'rsi_ob_70_pgo_brkout_OR', 'rsi_ob_70_pgo_brkdn_OR',\n",
       "       'lrsi_os_03_cci_os_OR', 'lrsi_os_03_bband_brkdn_OR',\n",
       "       'lrsi_os_03_pgo_brkout_OR', 'lrsi_os_03_pgo_brkdn_OR',\n",
       "       'tsi_ob_bband_brkdn_OR', 'tsi_ob_pgo_brkdn_OR', 'cci_os_cci_ob_OR',\n",
       "       'cci_os_wr_os_OR', 'cci_os_bband_brkdn_OR', 'cci_os_pgo_brkout_OR',\n",
       "       'cci_os_pgo_brkdn_OR', 'cci_ob_bband_brkdn_OR', 'cci_ob_pgo_brkout_OR',\n",
       "       'cci_ob_pgo_brkdn_OR', 'wr_os_bband_brkdn_OR', 'wr_os_pgo_brkout_OR',\n",
       "       'wr_os_pgo_brkdn_OR', 'bband_brkdn_dpo_os_OR', 'pgo_brkout_dpo_os_OR',\n",
       "       'pgo_brkdn_dpo_os_OR'],\n",
       "      dtype='object')"
      ]
     },
     "execution_count": 9,
     "metadata": {},
     "output_type": "execute_result"
    }
   ],
   "source": [
    "data_combo.columns"
   ]
  },
  {
   "cell_type": "code",
   "execution_count": 10,
   "metadata": {},
   "outputs": [
    {
     "name": "stdout",
     "output_type": "stream",
     "text": [
      "Export Finished!\n"
     ]
    }
   ],
   "source": [
    "day_interval = [5,10,20,30,63,126,252]\n",
    "signal_list = data_combo.columns[16:]\n",
    "target_stats = [\"mean\"]\n",
    "n_value = [3]\n",
    "target_day_interval = [5,10,20]\n",
    "min_chg = 0.15\n",
    "n_dict = dict(zip(target_stats,n_value))\n",
    "output_file_name = TICK+\"_OR_Stats\"\n",
    "sc.export_summary_table(day_interval,data_combo,signal_list,\"10dORHV\",dir_path,output_file_name,\n",
    "                    target_stats,target_day_interval,n_dict,min_chg)\n",
    "\n",
    "print(\"Export Finished!\")"
   ]
  },
  {
   "cell_type": "code",
   "execution_count": null,
   "metadata": {},
   "outputs": [],
   "source": []
  },
  {
   "cell_type": "code",
   "execution_count": null,
   "metadata": {},
   "outputs": [],
   "source": []
  },
  {
   "cell_type": "code",
   "execution_count": null,
   "metadata": {},
   "outputs": [],
   "source": []
  }
 ],
 "metadata": {
  "kernelspec": {
   "display_name": "Python 3",
   "language": "python",
   "name": "python3"
  },
  "language_info": {
   "codemirror_mode": {
    "name": "ipython",
    "version": 3
   },
   "file_extension": ".py",
   "mimetype": "text/x-python",
   "name": "python",
   "nbconvert_exporter": "python",
   "pygments_lexer": "ipython3",
   "version": "3.6.1"
  }
 },
 "nbformat": 4,
 "nbformat_minor": 2
}
