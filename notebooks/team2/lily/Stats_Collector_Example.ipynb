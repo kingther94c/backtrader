{
 "cells": [
  {
   "cell_type": "code",
   "execution_count": 2,
   "metadata": {
    "collapsed": true
   },
   "outputs": [],
   "source": [
    "import Stats_Collector as sc"
   ]
  },
  {
   "cell_type": "markdown",
   "metadata": {},
   "source": [
    "# README:\n",
    "## General Procedure:\n",
    "(1). Use Backtrader to generate the data file you are interested in. It should include dates, the asset, indicators or ideally, the signals. If the file does not include all of the signals you are interested in, please use Excel (recommended), or write functions in python to mark all signals. \n",
    "\n",
    "(2). Import $\\texttt{Stats_Collector}$\n",
    "\n",
    "(3).Use $\\texttt{read_data}$ function to read the file containing at least dates, the asset and the signals.\n",
    "\n",
    "(4). Use $\\texttt{export_summary_table}$ to export the output. It will export a summary sheet and sift out the strong\n",
    "signals which meet your thresholds.\n",
    "\n",
    "The following is an example."
   ]
  },
  {
   "cell_type": "code",
   "execution_count": 32,
   "metadata": {
    "collapsed": true
   },
   "outputs": [],
   "source": [
    "'''\n",
    "First read data\n",
    "'''\n",
    "# specify date column index (index starts from 0)\n",
    "date_ind = 3\n",
    "# input directory path\n",
    "input_dir = \"~/workspace/backtrader/datas/\"\n",
    "# file name\n",
    "filename1 = \"APPL_trend_indicators.csv\"\n",
    "# read data, need specify the file type as the first argument. NOTE: ONLY csv or excel are valid!\n",
    "df_yhoo_rv10 = sc.read_data(\"csv\",input_dir+filename1,date_ind)"
   ]
  },
  {
   "cell_type": "code",
   "execution_count": 5,
   "metadata": {
    "collapsed": true
   },
   "outputs": [],
   "source": [
    "'''\n",
    "Then, mark all signals you are interested in. If your input file has all signals you want, skip this.\n",
    "'''\n",
    "df_yhoo_rv10 = sc.mark_crosses(df_yhoo_rv10,\"sma\",\"sma.1\",\"5\",\"30\")\n",
    "df_yhoo_rv10 = sc.mark_crosses(df_yhoo_rv10,\"sma.2\",\"sma.3\",\"50\",\"200\")\n",
    "df_yhoo_rv10 = sc.mark_crosses(df_yhoo_rv10,\"ema\",\"ema.1\",\"12\",\"26\")\n",
    "df_yhoo_rv10 = sc.mark_BBands_Breaks(df_yhoo_rv10,\"bot\",\"top\",\"close.1\")\n",
    "df_yhoo_rv10 = sc.mark_obos(df_yhoo_rv10)"
   ]
  },
  {
   "cell_type": "code",
   "execution_count": 33,
   "metadata": {},
   "outputs": [
    {
     "name": "stderr",
     "output_type": "stream",
     "text": [
      "/home/project/anaconda3/lib/python3.6/site-packages/numpy/lib/function_base.py:1128: RuntimeWarning: Mean of empty slice.\n",
      "  avg = a.mean(axis)\n",
      "/home/project/anaconda3/lib/python3.6/site-packages/numpy/core/_methods.py:80: RuntimeWarning: invalid value encountered in double_scalars\n",
      "  ret = ret.dtype.type(ret / rcount)\n"
     ]
    },
    {
     "name": "stdout",
     "output_type": "stream",
     "text": [
      "Export Finished!\n"
     ]
    }
   ],
   "source": [
    "'''\n",
    "Export and DONE!\n",
    "'''\n",
    "#---------------------------------------\n",
    "# specify the day intervals\n",
    "day_interval = [5,10,20,30,63,126,252]\n",
    "#---------------------------------------\n",
    "# specify the signal list. The signal name MUST align with the column name corresponds to that signal\n",
    "signal_list = [\"up_sma_5_30\",\"down_sma_5_30\",\"up_sma_50_200\",\"down_sma_50_200\",\"up_ema_12_26\",\n",
    "               \"down_ema_12_26\",\"up_macd\",\"down_macd\",\"up_dema_21_55\",\"down_dema_21_55\",\"up_hma_30\",\"down_hma_30\"\n",
    "               ]\n",
    "#---------------------------------------\n",
    "# The following inputs form the threshold to sift strong signals.\n",
    "#---------------------------------------\n",
    "# specify the stats you want in determining strong signals. \n",
    "target_stats = [\"mean\"]\n",
    "#---------------------------------------\n",
    "# specify the minimum userful day intervals. \n",
    "n_value = [3]\n",
    "#---------------------------------------\n",
    "# specify day intervals you want to look at.\n",
    "target_day_interval = [5,10,20,30]\n",
    "#---------------------------------------\n",
    "# specify minimum change\n",
    "min_chg = 0.1\n",
    "#---------------------------------------\n",
    "\n",
    "#+++++++++++++++++++++++++++++++++++++++\n",
    "# DO not change this line\n",
    "n_dict = dict(zip(target_stats,n_value))\n",
    "#+++++++++++++++++++++++++++++++++++++++\n",
    "\n",
    "# NOTE:\n",
    "# The numbers in \"n_value\" must correspond to the stats in \"target_stats\"\n",
    "# Namely, here, you want signals that there are at least 3 means, 2 mins, 3 maxs in day intervals [5,10,20] \n",
    "# higher than 1.3 or lower than 0.7\n",
    "\n",
    "output_dir = \"\"\n",
    "output_file_name = \"AAPL_Stats_mean_0.1\"\n",
    "sc.export_summary_table(day_interval,df_yhoo_rv10,signal_list,\"close\",output_dir,output_file_name,\n",
    "                    target_stats,target_day_interval,n_dict,min_chg)\n",
    "\n",
    "print(\"Export Finished!\")"
   ]
  },
  {
   "cell_type": "code",
   "execution_count": 1,
   "metadata": {},
   "outputs": [
    {
     "ename": "NameError",
     "evalue": "name 'sc' is not defined",
     "output_type": "error",
     "traceback": [
      "\u001b[0;31m---------------------------------------------------------------------------\u001b[0m",
      "\u001b[0;31mNameError\u001b[0m                                 Traceback (most recent call last)",
      "\u001b[0;32m<ipython-input-1-533167ec8934>\u001b[0m in \u001b[0;36m<module>\u001b[0;34m()\u001b[0m\n\u001b[0;32m----> 1\u001b[0;31m \u001b[0mhelp\u001b[0m\u001b[0;34m(\u001b[0m\u001b[0msc\u001b[0m\u001b[0;34m.\u001b[0m\u001b[0mexport_summary_table\u001b[0m\u001b[0;34m)\u001b[0m\u001b[0;34m\u001b[0m\u001b[0m\n\u001b[0m",
      "\u001b[0;31mNameError\u001b[0m: name 'sc' is not defined"
     ]
    }
   ],
   "source": [
    "help(sc.export_summary_table)"
   ]
  },
  {
   "cell_type": "code",
   "execution_count": null,
   "metadata": {
    "collapsed": true
   },
   "outputs": [],
   "source": []
  }
 ],
 "metadata": {
  "kernelspec": {
   "display_name": "Python 3",
   "language": "python",
   "name": "python3"
  },
  "language_info": {
   "codemirror_mode": {
    "name": "ipython",
    "version": 3
   },
   "file_extension": ".py",
   "mimetype": "text/x-python",
   "name": "python",
   "nbconvert_exporter": "python",
   "pygments_lexer": "ipython3",
   "version": "3.6.4"
  }
 },
 "nbformat": 4,
 "nbformat_minor": 2
}
