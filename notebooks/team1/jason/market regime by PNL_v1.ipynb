{
 "cells": [
  {
   "cell_type": "code",
   "execution_count": 1,
   "metadata": {
    "collapsed": true
   },
   "outputs": [],
   "source": [
    "import pandas as pd\n",
    "import matplotlib.pyplot as plt\n",
    "import numpy as np\n",
    "from PIL import Image\n",
    "import seaborn as sns"
   ]
  },
  {
   "cell_type": "markdown",
   "metadata": {},
   "source": [
    "# outline\n",
    "\n",
    "\n",
    "## features:\n",
    "1. sharpe ratio\n",
    "2. volume\n",
    "3. hurst_exponent\n",
    "4. open\n",
    "5. close\n",
    "6. high\n",
    "6. low\n",
    "\n",
    "\n",
    "## label:\n",
    "1. 100% mean reversion, 0% momentum\n",
    "2. 75% mean reversion, 25% momentum\n",
    "3. 50% mean reversion, 50% momentum\n",
    "4. 25% mean reversion, 75% momentum\n",
    "5. 0% mean reversion, 100% momentum\n",
    "\n",
    "\n",
    "## approach:\n",
    "### feature generation: \n",
    "for each day (i), compute the features mentioned above\n",
    "\n",
    "### label generation: \n",
    "for each day (i), apply two strategies according to the weights given by the label. \n",
    "\n",
    "choose the weight which gives the best pnl over the next 20 days (i+1:i+20)\n",
    "\n",
    "### training:\n",
    "use every 20 days' (i-10: i) indicator to train to predict the label at (i) \n",
    "\n",
    "\n",
    "### outcome\n",
    "we will have a daily prediction of best portfolio according to data in the past 20 days.\n",
    "\n",
    "We then use majority vote for the past 10 days to decide which strategy to use"
   ]
  },
  {
   "cell_type": "code",
   "execution_count": 2,
   "metadata": {
    "scrolled": true
   },
   "outputs": [],
   "source": [
    "# Load data\n",
    "df = pd.read_csv(\"/Users/jingang/Desktop/Capstone/SPY.csv\")\n",
    "df.Date = pd.to_datetime(df.Date)\n",
    "df = df.set_index(\"Date\")\n",
    "Price = df.loc[:,\"Adj Close\"]\n",
    "Price=Price.loc[(Price.index>\"1980-01-01\") & (Price.index<\"2018-01-01\")]\n",
    "Volume = df.loc[:,\"Volume\"]\n",
    "Price.head()\n",
    "Open = df.loc[:,\"Open\"]\n",
    "Open=Open.loc[(Open.index>\"1980-01-01\") & (Open.index<\"2018-01-01\")]\n",
    "High = df.loc[:,\"High\"]\n",
    "High=High.loc[(High.index>\"1980-01-01\") & (High.index<\"2018-01-01\")]\n",
    "Low = df.loc[:,\"Low\"]\n",
    "Low=Low.loc[(Low.index>\"1980-01-01\") & (Low.index<\"2018-01-01\")]\n",
    "Close = df.loc[:,\"Close\"]\n",
    "Close=Close.loc[(Close.index>\"1980-01-01\") & (Close.index<\"2018-01-01\")]"
   ]
  },
  {
   "cell_type": "markdown",
   "metadata": {},
   "source": [
    "# generate features"
   ]
  },
  {
   "cell_type": "markdown",
   "metadata": {},
   "source": [
    "## functions to generate features\n",
    "1. sharpe ratio\n",
    "2. volume\n",
    "3. hurst_exponent\n",
    "4. open\n",
    "5. close\n",
    "6. high\n",
    "6. low"
   ]
  },
  {
   "cell_type": "code",
   "execution_count": 3,
   "metadata": {
    "collapsed": true
   },
   "outputs": [],
   "source": [
    "def compute_sharpe(arr):\n",
    "    ret = np.divide(np.diff(arr),arr[:-1])\n",
    "    return(np.mean(ret)/np.std(ret)) "
   ]
  },
  {
   "cell_type": "code",
   "execution_count": 4,
   "metadata": {
    "collapsed": true
   },
   "outputs": [],
   "source": [
    "def compute_range(arr):\n",
    "    ret = np.divide(np.diff(arr),arr[:-1])\n",
    "    return max(ret) - min(ret)"
   ]
  },
  {
   "cell_type": "code",
   "execution_count": 5,
   "metadata": {
    "collapsed": true
   },
   "outputs": [],
   "source": [
    "def compute_interquartile(arr):\n",
    "    ret = np.divide(np.diff(arr),arr[:-1])\n",
    "    return np.percentile(ret,75)-np.percentile(ret,25)"
   ]
  },
  {
   "cell_type": "code",
   "execution_count": 6,
   "metadata": {
    "collapsed": true
   },
   "outputs": [],
   "source": [
    "def compute_vol(arr):\n",
    "    log_arr = np.log(arr)\n",
    "    return_arr = np.diff(log_arr)\n",
    "    vol = np.float(np.sqrt(np.cov(return_arr)))\n",
    "    return vol"
   ]
  },
  {
   "cell_type": "code",
   "execution_count": 7,
   "metadata": {
    "collapsed": true
   },
   "outputs": [],
   "source": [
    "def compute_hurst_exponent(arr):\n",
    "    num_lag = 18\n",
    "    lag_arr = np.arange(2,2+num_lag)\n",
    "    tau_arr = np.zeros(num_lag)\n",
    "    #  Step through the different lags\n",
    "    for i in range(num_lag):\n",
    "        lag = lag_arr[i]\n",
    "        #  produce price difference with lag\n",
    "        arr_diff = np.diff(arr,lag)\n",
    "        #  Calculate the variance of the differnce vector\n",
    "        tau_arr[i] = np.sqrt(np.std(arr_diff))\n",
    "    #  linear fit to double-log graph (gives power)\n",
    "    m = np.polyfit(np.log10(lag_arr),np.log10(tau_arr),1)\n",
    "    # calculate hurst\n",
    "    hurst = m[0]*2\n",
    "    return hurst"
   ]
  },
  {
   "cell_type": "code",
   "execution_count": 8,
   "metadata": {
    "collapsed": true
   },
   "outputs": [],
   "source": [
    "def compute_long_short_scale_vol_ratio(arr, long_scale ,short_scale=1):\n",
    "    arr_long_scale = arr[::long_scale]\n",
    "    arr_short_scale = arr[::short_scale]\n",
    "    \n",
    "    return compute_vol(arr_short_scale)/compute_vol(arr_long_scale)"
   ]
  },
  {
   "cell_type": "code",
   "execution_count": 9,
   "metadata": {
    "collapsed": true
   },
   "outputs": [],
   "source": [
    "def compute_autocorr(arr, lag):\n",
    "    log_arr = np.log(arr)\n",
    "    return_arr = np.diff(log_arr)\n",
    "    mat_autocov = np.cov(return_arr[lag:],return_arr[:-lag])\n",
    "    autocorr = mat_autocov[1,0]/np.sqrt(mat_autocov[0,0]*mat_autocov[1,1])\n",
    "    return autocorr"
   ]
  },
  {
   "cell_type": "code",
   "execution_count": 10,
   "metadata": {},
   "outputs": [],
   "source": [
    "# create the indicator\n",
    "window_indicators = 30\n",
    "Indicators = pd.DataFrame(index = Price.index, columns=[\"hurst_exponent\",\n",
    "                                                        \"sharpe_ratio\",\n",
    "                                                        \"Volume\",\n",
    "                                                        'Open_pct',\n",
    "                                                        'Close_pct',\n",
    "                                                       'High_pct',\n",
    "                                                       'Low_pct',\n",
    "                                                       'Open',\n",
    "                                                       'Price',\n",
    "                                                       'Close'])\n",
    "Indicators.loc[:,\"hurst_exponent\"] = Price.rolling(window=window_indicators).apply(compute_hurst_exponent)\n",
    "Indicators.loc[:,\"sharpe_ratio\"] = Price.rolling(window=window_indicators).apply(compute_sharpe)\n",
    "Indicators.loc[:,\"Volume\"] = Volume\n",
    "Indicators.loc[:,\"Low_pct\"] = Low.pct_change()\n",
    "Indicators.loc[:,\"High_pct\"] = High.pct_change()\n",
    "Indicators.loc[:,\"Close_pct\"] = Close.pct_change()\n",
    "Indicators.loc[:,\"Open_pct\"] = Open.pct_change()\n",
    "Indicators.loc[:,\"Open\"] = Open\n",
    "Indicators.loc[:,\"Price\"] = Price\n",
    "Indicators.loc[:,\"Close\"] = Close"
   ]
  },
  {
   "cell_type": "code",
   "execution_count": 24,
   "metadata": {
    "scrolled": false
   },
   "outputs": [
    {
     "data": {
      "text/html": [
       "<div>\n",
       "<style>\n",
       "    .dataframe thead tr:only-child th {\n",
       "        text-align: right;\n",
       "    }\n",
       "\n",
       "    .dataframe thead th {\n",
       "        text-align: left;\n",
       "    }\n",
       "\n",
       "    .dataframe tbody tr th {\n",
       "        vertical-align: top;\n",
       "    }\n",
       "</style>\n",
       "<table border=\"1\" class=\"dataframe\">\n",
       "  <thead>\n",
       "    <tr style=\"text-align: right;\">\n",
       "      <th></th>\n",
       "      <th>hurst_exponent</th>\n",
       "      <th>sharpe_ratio</th>\n",
       "      <th>Volume</th>\n",
       "      <th>Open_pct</th>\n",
       "      <th>Close_pct</th>\n",
       "      <th>High_pct</th>\n",
       "      <th>Low_pct</th>\n",
       "      <th>Open</th>\n",
       "      <th>Price</th>\n",
       "      <th>Close</th>\n",
       "    </tr>\n",
       "    <tr>\n",
       "      <th>Date</th>\n",
       "      <th></th>\n",
       "      <th></th>\n",
       "      <th></th>\n",
       "      <th></th>\n",
       "      <th></th>\n",
       "      <th></th>\n",
       "      <th></th>\n",
       "      <th></th>\n",
       "      <th></th>\n",
       "      <th></th>\n",
       "    </tr>\n",
       "  </thead>\n",
       "  <tbody>\n",
       "    <tr>\n",
       "      <th>2000-02-15</th>\n",
       "      <td>5.258879</td>\n",
       "      <td>0.027300</td>\n",
       "      <td>11078300</td>\n",
       "      <td>-0.003800</td>\n",
       "      <td>0.011313</td>\n",
       "      <td>0.010284</td>\n",
       "      <td>-0.003729</td>\n",
       "      <td>139.2500</td>\n",
       "      <td>100.695770</td>\n",
       "      <td>141.078094</td>\n",
       "    </tr>\n",
       "    <tr>\n",
       "      <th>2000-02-16</th>\n",
       "      <td>5.287110</td>\n",
       "      <td>-0.005176</td>\n",
       "      <td>8845400</td>\n",
       "      <td>0.008079</td>\n",
       "      <td>-0.014730</td>\n",
       "      <td>-0.001991</td>\n",
       "      <td>0.007257</td>\n",
       "      <td>140.3750</td>\n",
       "      <td>99.212517</td>\n",
       "      <td>139.000000</td>\n",
       "    </tr>\n",
       "    <tr>\n",
       "      <th>2000-02-17</th>\n",
       "      <td>5.338493</td>\n",
       "      <td>0.016244</td>\n",
       "      <td>7584200</td>\n",
       "      <td>0.000445</td>\n",
       "      <td>-0.005171</td>\n",
       "      <td>-0.003548</td>\n",
       "      <td>-0.004165</td>\n",
       "      <td>140.4375</td>\n",
       "      <td>98.699432</td>\n",
       "      <td>138.281204</td>\n",
       "    </tr>\n",
       "    <tr>\n",
       "      <th>2000-02-18</th>\n",
       "      <td>5.341500</td>\n",
       "      <td>-0.174040</td>\n",
       "      <td>9409200</td>\n",
       "      <td>-0.011126</td>\n",
       "      <td>-0.021469</td>\n",
       "      <td>-0.011126</td>\n",
       "      <td>-0.026000</td>\n",
       "      <td>138.8750</td>\n",
       "      <td>96.580505</td>\n",
       "      <td>135.312500</td>\n",
       "    </tr>\n",
       "    <tr>\n",
       "      <th>2000-02-22</th>\n",
       "      <td>5.318577</td>\n",
       "      <td>-0.189204</td>\n",
       "      <td>16415400</td>\n",
       "      <td>-0.026553</td>\n",
       "      <td>-0.002541</td>\n",
       "      <td>-0.018227</td>\n",
       "      <td>-0.008125</td>\n",
       "      <td>135.1875</td>\n",
       "      <td>96.335106</td>\n",
       "      <td>134.968704</td>\n",
       "    </tr>\n",
       "  </tbody>\n",
       "</table>\n",
       "</div>"
      ],
      "text/plain": [
       "            hurst_exponent  sharpe_ratio    Volume  Open_pct  Close_pct  \\\n",
       "Date                                                                      \n",
       "2000-02-15        5.258879      0.027300  11078300 -0.003800   0.011313   \n",
       "2000-02-16        5.287110     -0.005176   8845400  0.008079  -0.014730   \n",
       "2000-02-17        5.338493      0.016244   7584200  0.000445  -0.005171   \n",
       "2000-02-18        5.341500     -0.174040   9409200 -0.011126  -0.021469   \n",
       "2000-02-22        5.318577     -0.189204  16415400 -0.026553  -0.002541   \n",
       "\n",
       "            High_pct   Low_pct      Open       Price       Close  \n",
       "Date                                                              \n",
       "2000-02-15  0.010284 -0.003729  139.2500  100.695770  141.078094  \n",
       "2000-02-16 -0.001991  0.007257  140.3750   99.212517  139.000000  \n",
       "2000-02-17 -0.003548 -0.004165  140.4375   98.699432  138.281204  \n",
       "2000-02-18 -0.011126 -0.026000  138.8750   96.580505  135.312500  \n",
       "2000-02-22 -0.018227 -0.008125  135.1875   96.335106  134.968704  "
      ]
     },
     "execution_count": 24,
     "metadata": {},
     "output_type": "execute_result"
    }
   ],
   "source": [
    "Indicators[30:].head()"
   ]
  },
  {
   "cell_type": "code",
   "execution_count": 25,
   "metadata": {},
   "outputs": [
    {
     "data": {
      "text/html": [
       "<div>\n",
       "<style>\n",
       "    .dataframe thead tr:only-child th {\n",
       "        text-align: right;\n",
       "    }\n",
       "\n",
       "    .dataframe thead th {\n",
       "        text-align: left;\n",
       "    }\n",
       "\n",
       "    .dataframe tbody tr th {\n",
       "        vertical-align: top;\n",
       "    }\n",
       "</style>\n",
       "<table border=\"1\" class=\"dataframe\">\n",
       "  <thead>\n",
       "    <tr style=\"text-align: right;\">\n",
       "      <th></th>\n",
       "      <th>hurst_exponent</th>\n",
       "      <th>sharpe_ratio</th>\n",
       "      <th>Volume</th>\n",
       "      <th>Open_pct</th>\n",
       "      <th>Close_pct</th>\n",
       "      <th>High_pct</th>\n",
       "      <th>Low_pct</th>\n",
       "      <th>Open</th>\n",
       "      <th>Price</th>\n",
       "      <th>Close</th>\n",
       "    </tr>\n",
       "    <tr>\n",
       "      <th>Date</th>\n",
       "      <th></th>\n",
       "      <th></th>\n",
       "      <th></th>\n",
       "      <th></th>\n",
       "      <th></th>\n",
       "      <th></th>\n",
       "      <th></th>\n",
       "      <th></th>\n",
       "      <th></th>\n",
       "      <th></th>\n",
       "    </tr>\n",
       "  </thead>\n",
       "  <tbody>\n",
       "    <tr>\n",
       "      <th>2000-02-15</th>\n",
       "      <td>5.258879</td>\n",
       "      <td>0.027300</td>\n",
       "      <td>11078300</td>\n",
       "      <td>-0.003800</td>\n",
       "      <td>0.011313</td>\n",
       "      <td>0.010284</td>\n",
       "      <td>-0.003729</td>\n",
       "      <td>139.2500</td>\n",
       "      <td>100.695770</td>\n",
       "      <td>141.078094</td>\n",
       "    </tr>\n",
       "    <tr>\n",
       "      <th>2000-02-16</th>\n",
       "      <td>5.287110</td>\n",
       "      <td>-0.005176</td>\n",
       "      <td>8845400</td>\n",
       "      <td>0.008079</td>\n",
       "      <td>-0.014730</td>\n",
       "      <td>-0.001991</td>\n",
       "      <td>0.007257</td>\n",
       "      <td>140.3750</td>\n",
       "      <td>99.212517</td>\n",
       "      <td>139.000000</td>\n",
       "    </tr>\n",
       "    <tr>\n",
       "      <th>2000-02-17</th>\n",
       "      <td>5.338493</td>\n",
       "      <td>0.016244</td>\n",
       "      <td>7584200</td>\n",
       "      <td>0.000445</td>\n",
       "      <td>-0.005171</td>\n",
       "      <td>-0.003548</td>\n",
       "      <td>-0.004165</td>\n",
       "      <td>140.4375</td>\n",
       "      <td>98.699432</td>\n",
       "      <td>138.281204</td>\n",
       "    </tr>\n",
       "    <tr>\n",
       "      <th>2000-02-18</th>\n",
       "      <td>5.341500</td>\n",
       "      <td>-0.174040</td>\n",
       "      <td>9409200</td>\n",
       "      <td>-0.011126</td>\n",
       "      <td>-0.021469</td>\n",
       "      <td>-0.011126</td>\n",
       "      <td>-0.026000</td>\n",
       "      <td>138.8750</td>\n",
       "      <td>96.580505</td>\n",
       "      <td>135.312500</td>\n",
       "    </tr>\n",
       "    <tr>\n",
       "      <th>2000-02-22</th>\n",
       "      <td>5.318577</td>\n",
       "      <td>-0.189204</td>\n",
       "      <td>16415400</td>\n",
       "      <td>-0.026553</td>\n",
       "      <td>-0.002541</td>\n",
       "      <td>-0.018227</td>\n",
       "      <td>-0.008125</td>\n",
       "      <td>135.1875</td>\n",
       "      <td>96.335106</td>\n",
       "      <td>134.968704</td>\n",
       "    </tr>\n",
       "  </tbody>\n",
       "</table>\n",
       "</div>"
      ],
      "text/plain": [
       "            hurst_exponent  sharpe_ratio    Volume  Open_pct  Close_pct  \\\n",
       "Date                                                                      \n",
       "2000-02-15        5.258879      0.027300  11078300 -0.003800   0.011313   \n",
       "2000-02-16        5.287110     -0.005176   8845400  0.008079  -0.014730   \n",
       "2000-02-17        5.338493      0.016244   7584200  0.000445  -0.005171   \n",
       "2000-02-18        5.341500     -0.174040   9409200 -0.011126  -0.021469   \n",
       "2000-02-22        5.318577     -0.189204  16415400 -0.026553  -0.002541   \n",
       "\n",
       "            High_pct   Low_pct      Open       Price       Close  \n",
       "Date                                                              \n",
       "2000-02-15  0.010284 -0.003729  139.2500  100.695770  141.078094  \n",
       "2000-02-16 -0.001991  0.007257  140.3750   99.212517  139.000000  \n",
       "2000-02-17 -0.003548 -0.004165  140.4375   98.699432  138.281204  \n",
       "2000-02-18 -0.011126 -0.026000  138.8750   96.580505  135.312500  \n",
       "2000-02-22 -0.018227 -0.008125  135.1875   96.335106  134.968704  "
      ]
     },
     "execution_count": 25,
     "metadata": {},
     "output_type": "execute_result"
    }
   ],
   "source": [
    "Indicators_useful_bn = Indicators[30:]\n",
    "Indicators_useful_bn.head()"
   ]
  },
  {
   "cell_type": "code",
   "execution_count": 26,
   "metadata": {},
   "outputs": [],
   "source": [
    "# normalize the data\n",
    "Indicators_useful = Indicators_useful_bn.loc[:,[\"hurst_exponent\",\n",
    "                                                \"sharpe_ratio\",\n",
    "                                                        \"Volume\",\n",
    "                                                        'Open_pct',\n",
    "                                                        'Close_pct',\n",
    "                                                       'High_pct',\n",
    "                                                       'Low_pct']]\n",
    "\n",
    "data = [\"hurst_exponent\",\"sharpe_ratio\",\"Volume\",'Open_pct', 'Close_pct','High_pct','Low_pct']\n",
    "\n",
    "for i in data:\n",
    "    Indicators_useful[i] = (Indicators_useful[i]-Indicators_useful[i].mean())/Indicators_useful[i].std()"
   ]
  },
  {
   "cell_type": "code",
   "execution_count": 28,
   "metadata": {
    "scrolled": true
   },
   "outputs": [
    {
     "data": {
      "text/html": [
       "<div>\n",
       "<style>\n",
       "    .dataframe thead tr:only-child th {\n",
       "        text-align: right;\n",
       "    }\n",
       "\n",
       "    .dataframe thead th {\n",
       "        text-align: left;\n",
       "    }\n",
       "\n",
       "    .dataframe tbody tr th {\n",
       "        vertical-align: top;\n",
       "    }\n",
       "</style>\n",
       "<table border=\"1\" class=\"dataframe\">\n",
       "  <thead>\n",
       "    <tr style=\"text-align: right;\">\n",
       "      <th></th>\n",
       "      <th>hurst_exponent</th>\n",
       "      <th>sharpe_ratio</th>\n",
       "      <th>Volume</th>\n",
       "      <th>Open_pct</th>\n",
       "      <th>Close_pct</th>\n",
       "      <th>High_pct</th>\n",
       "      <th>Low_pct</th>\n",
       "    </tr>\n",
       "    <tr>\n",
       "      <th>Date</th>\n",
       "      <th></th>\n",
       "      <th></th>\n",
       "      <th></th>\n",
       "      <th></th>\n",
       "      <th></th>\n",
       "      <th></th>\n",
       "      <th></th>\n",
       "    </tr>\n",
       "  </thead>\n",
       "  <tbody>\n",
       "    <tr>\n",
       "      <th>2000-02-15</th>\n",
       "      <td>0.899907</td>\n",
       "      <td>-0.241543</td>\n",
       "      <td>-1.024073</td>\n",
       "      <td>-0.334121</td>\n",
       "      <td>0.912283</td>\n",
       "      <td>1.050023</td>\n",
       "      <td>-0.339639</td>\n",
       "    </tr>\n",
       "    <tr>\n",
       "      <th>2000-02-16</th>\n",
       "      <td>1.039343</td>\n",
       "      <td>-0.425600</td>\n",
       "      <td>-1.045858</td>\n",
       "      <td>0.653755</td>\n",
       "      <td>-1.229176</td>\n",
       "      <td>-0.227080</td>\n",
       "      <td>0.606886</td>\n",
       "    </tr>\n",
       "    <tr>\n",
       "      <th>2000-02-17</th>\n",
       "      <td>1.293125</td>\n",
       "      <td>-0.304204</td>\n",
       "      <td>-1.058163</td>\n",
       "      <td>0.018933</td>\n",
       "      <td>-0.443156</td>\n",
       "      <td>-0.389008</td>\n",
       "      <td>-0.377250</td>\n",
       "    </tr>\n",
       "    <tr>\n",
       "      <th>2000-02-18</th>\n",
       "      <td>1.307977</td>\n",
       "      <td>-1.382640</td>\n",
       "      <td>-1.040357</td>\n",
       "      <td>-0.943325</td>\n",
       "      <td>-1.783277</td>\n",
       "      <td>-1.177447</td>\n",
       "      <td>-2.258574</td>\n",
       "    </tr>\n",
       "    <tr>\n",
       "      <th>2000-02-22</th>\n",
       "      <td>1.194756</td>\n",
       "      <td>-1.468581</td>\n",
       "      <td>-0.972002</td>\n",
       "      <td>-2.226208</td>\n",
       "      <td>-0.226858</td>\n",
       "      <td>-1.916252</td>\n",
       "      <td>-0.718422</td>\n",
       "    </tr>\n",
       "    <tr>\n",
       "      <th>2000-02-23</th>\n",
       "      <td>1.057720</td>\n",
       "      <td>-1.132079</td>\n",
       "      <td>-1.013919</td>\n",
       "      <td>0.251033</td>\n",
       "      <td>0.953079</td>\n",
       "      <td>0.838540</td>\n",
       "      <td>0.606725</td>\n",
       "    </tr>\n",
       "    <tr>\n",
       "      <th>2000-02-24</th>\n",
       "      <td>0.847696</td>\n",
       "      <td>-1.253019</td>\n",
       "      <td>-0.962639</td>\n",
       "      <td>0.633390</td>\n",
       "      <td>-1.673805</td>\n",
       "      <td>-0.351020</td>\n",
       "      <td>-0.919260</td>\n",
       "    </tr>\n",
       "    <tr>\n",
       "      <th>2000-02-25</th>\n",
       "      <td>0.563988</td>\n",
       "      <td>-1.507360</td>\n",
       "      <td>-1.029131</td>\n",
       "      <td>-0.930684</td>\n",
       "      <td>-0.315606</td>\n",
       "      <td>-0.257172</td>\n",
       "      <td>0.001873</td>\n",
       "    </tr>\n",
       "    <tr>\n",
       "      <th>2000-02-28</th>\n",
       "      <td>0.264188</td>\n",
       "      <td>-1.381192</td>\n",
       "      <td>-1.001443</td>\n",
       "      <td>-1.133042</td>\n",
       "      <td>1.707036</td>\n",
       "      <td>-0.043656</td>\n",
       "      <td>-0.281349</td>\n",
       "    </tr>\n",
       "    <tr>\n",
       "      <th>2000-02-29</th>\n",
       "      <td>-0.024380</td>\n",
       "      <td>-1.139850</td>\n",
       "      <td>-1.051740</td>\n",
       "      <td>1.657575</td>\n",
       "      <td>0.774908</td>\n",
       "      <td>0.550951</td>\n",
       "      <td>1.949521</td>\n",
       "    </tr>\n",
       "  </tbody>\n",
       "</table>\n",
       "</div>"
      ],
      "text/plain": [
       "            hurst_exponent  sharpe_ratio    Volume  Open_pct  Close_pct  \\\n",
       "Date                                                                      \n",
       "2000-02-15        0.899907     -0.241543 -1.024073 -0.334121   0.912283   \n",
       "2000-02-16        1.039343     -0.425600 -1.045858  0.653755  -1.229176   \n",
       "2000-02-17        1.293125     -0.304204 -1.058163  0.018933  -0.443156   \n",
       "2000-02-18        1.307977     -1.382640 -1.040357 -0.943325  -1.783277   \n",
       "2000-02-22        1.194756     -1.468581 -0.972002 -2.226208  -0.226858   \n",
       "2000-02-23        1.057720     -1.132079 -1.013919  0.251033   0.953079   \n",
       "2000-02-24        0.847696     -1.253019 -0.962639  0.633390  -1.673805   \n",
       "2000-02-25        0.563988     -1.507360 -1.029131 -0.930684  -0.315606   \n",
       "2000-02-28        0.264188     -1.381192 -1.001443 -1.133042   1.707036   \n",
       "2000-02-29       -0.024380     -1.139850 -1.051740  1.657575   0.774908   \n",
       "\n",
       "            High_pct   Low_pct  \n",
       "Date                            \n",
       "2000-02-15  1.050023 -0.339639  \n",
       "2000-02-16 -0.227080  0.606886  \n",
       "2000-02-17 -0.389008 -0.377250  \n",
       "2000-02-18 -1.177447 -2.258574  \n",
       "2000-02-22 -1.916252 -0.718422  \n",
       "2000-02-23  0.838540  0.606725  \n",
       "2000-02-24 -0.351020 -0.919260  \n",
       "2000-02-25 -0.257172  0.001873  \n",
       "2000-02-28 -0.043656 -0.281349  \n",
       "2000-02-29  0.550951  1.949521  "
      ]
     },
     "execution_count": 28,
     "metadata": {},
     "output_type": "execute_result"
    }
   ],
   "source": [
    "Indicators_useful.head(10)"
   ]
  },
  {
   "cell_type": "markdown",
   "metadata": {},
   "source": [
    "## build a rolling indicator "
   ]
  },
  {
   "cell_type": "code",
   "execution_count": 29,
   "metadata": {
    "collapsed": true
   },
   "outputs": [],
   "source": [
    "Indicators_useful_bloc = Indicators_useful.ewm(20).mean()"
   ]
  },
  {
   "cell_type": "markdown",
   "metadata": {},
   "source": [
    "# generate pnl label\n",
    "\n",
    "There are two trading strategies:\n",
    "\n",
    "* mean reversion:\n",
    "\n",
    "* use 20 day's ewm with std 1.2:\n",
    "\n",
    "    * when price cross upper band from below, short;\n",
    "\n",
    "    * when price cross middle band from above, close\n",
    "\n",
    "    * when price cross lower band from above, long;\n",
    "\n",
    "    * when price cross middle band from below, close\n",
    "\n",
    "\n",
    "\n",
    "\n",
    "* momentum:\n",
    "\n",
    "* use hist line in MACD indicator:\n",
    "\n",
    "    * when hist increase for 4 consecutive days  and  hist < 0, long\n",
    "\n",
    "    * when hist cross 0 from below, close\n",
    "\n",
    "    * when hist decreases for 4 consecutive days and hist > 0, short\n",
    "\n",
    "    * when hist cross 0 from above, close"
   ]
  },
  {
   "cell_type": "markdown",
   "metadata": {
    "collapsed": true
   },
   "source": [
    "## mean reversion strategy\n",
    "start from a certain day (i), check the pnl of next 20 days, return the value of pnl"
   ]
  },
  {
   "cell_type": "code",
   "execution_count": 30,
   "metadata": {
    "collapsed": true
   },
   "outputs": [],
   "source": [
    "# compute the bollinger_band\n",
    "def compute_bollinger_band(series=Price, span=20, num_std=1.2):\n",
    "    bollinger_band_middle = Price.ewm(span=span).mean()\n",
    "    rolling_std = Price.ewm(com=9.5).std()\n",
    "    bollinger_band_upper = bollinger_band_middle+rolling_std*num_std\n",
    "    bollinger_band_lower = bollinger_band_middle-rolling_std*num_std\n",
    "    return bollinger_band_upper,bollinger_band_middle, bollinger_band_lower"
   ]
  },
  {
   "cell_type": "code",
   "execution_count": 31,
   "metadata": {
    "collapsed": true
   },
   "outputs": [],
   "source": [
    "# take a date i and a window of fixed length (20)\n",
    "# return index of i+1 and i+20\n",
    "def get_window(date, series=Price, window_length = 20):\n",
    "    date = pd.to_datetime(date)\n",
    "    date_index = Price.index.get_loc(date)\n",
    "    return date_index+1, date_index+window_length"
   ]
  },
  {
   "cell_type": "code",
   "execution_count": 32,
   "metadata": {
    "collapsed": true
   },
   "outputs": [],
   "source": [
    "# EMA indicator for the whole series\n",
    "bb_upper, bb_middle, bb_lower = compute_bollinger_band(Price, span=20, num_std=1.2)"
   ]
  },
  {
   "cell_type": "code",
   "execution_count": 33,
   "metadata": {
    "collapsed": true
   },
   "outputs": [],
   "source": [
    "def mean_reversion_strategy(date, series=Price, long_window=20, num_std=1.2,  window_length = 20):\n",
    "     \n",
    "            \n",
    "    # EMA indicator\n",
    "    #bb_upper, bb_middle, bb_lower = compute_bollinger_band(series, long_window, num_std)\n",
    "    \n",
    "    # periods\n",
    "    window_index_s, window_index_e = get_window(date = date, series=series, window_length = 20)\n",
    "    \n",
    "        \n",
    "    current_period = series[window_index_s:window_index_e+1]\n",
    "    current_upper = bb_upper[window_index_s:window_index_e+1]\n",
    "    current_middle = bb_middle[window_index_s:window_index_e+1]\n",
    "    current_lower = bb_lower[window_index_s:window_index_e+1]\n",
    "      \n",
    "    plt.plot(current_upper,'r-')  \n",
    "    plt.plot(current_middle,'g-')  \n",
    "    plt.plot(current_lower,'r-')  \n",
    "    plt.plot(current_period,'b.-')\n",
    "    plt.show()\n",
    "    \n",
    "    # notice the the indicators are designed such that there is no chance of them overlap\n",
    "    # price cross lower from above\n",
    "    long_indicator = np.all([current_period < current_lower, current_period.shift(1) > current_lower.shift(1)], axis=0)\n",
    "        \n",
    "    # price cross middle from below\n",
    "    close_long_indicator = np.all([current_period > current_middle, current_period.shift(1) < current_middle.shift(1)], axis=0)\n",
    "    \n",
    "    # price cross middle from above\n",
    "    close_short_indicator = np.all([current_period < current_middle, current_period.shift(1) > current_middle.shift(1)], axis=0)\n",
    "        \n",
    "    # price cross upper from below\n",
    "    short_indicator = np.all([current_period > current_upper, current_period.shift(1) < current_upper.shift(1)], axis=0)\n",
    "        \n",
    "\n",
    "    # make the strategy\n",
    "    # if eixst position, close it anyway at end of the period\n",
    "    position = 0\n",
    "    pnl = 0\n",
    "    pre_price = 0\n",
    "    count = 0\n",
    "    for j in range(window_length):\n",
    "                \n",
    "        # long indicator is activated\n",
    "        if long_indicator[j] == True and position == 0:\n",
    "            position = 1\n",
    "            pre_price = current_period[j]\n",
    "                \n",
    "        # close long indicator is activated\n",
    "        if close_long_indicator[j] == True and position == 1:\n",
    "            position = 0\n",
    "            pnl += current_period[j] - pre_price\n",
    "            pre_price = 0\n",
    "            count += 1\n",
    "            \n",
    "        # short indicator is activated\n",
    "        if short_indicator[j] == True and position == 0:\n",
    "            position =  -1\n",
    "            pre_price = current_period[j]\n",
    "            \n",
    "        # close short indicator is activated\n",
    "        if close_short_indicator[j] == True and position == -1:\n",
    "            position = 0\n",
    "            pnl += pre_price - current_period[j]\n",
    "            pre_price = 0\n",
    "            count += 1\n",
    "                \n",
    "    # close any existing position\n",
    "    if position != 0:\n",
    "        if position == 1:\n",
    "            pnl += current_period[window_length-1] - pre_price\n",
    "            count += 1\n",
    "        if position == -1:\n",
    "            pnl += pre_price - current_period[window_length-1]\n",
    "            count += 1\n",
    "                 \n",
    "    return pnl, count"
   ]
  },
  {
   "cell_type": "code",
   "execution_count": 34,
   "metadata": {
    "scrolled": true
   },
   "outputs": [
    {
     "data": {
      "image/png": "[encoded data removed]",
      "text/plain": [
       "<matplotlib.figure.Figure at 0x10bd878d0>"
      ]
     },
     "metadata": {},
     "output_type": "display_data"
    },
    {
     "data": {
      "text/plain": [
       "(5.120757999999995, 1)"
      ]
     },
     "execution_count": 34,
     "metadata": {},
     "output_type": "execute_result"
    }
   ],
   "source": [
    "mean_reversion_strategy('2000-04-19', series=Price, long_window=20, num_std=1.2,  window_length = 20)"
   ]
  },
  {
   "cell_type": "code",
   "execution_count": 35,
   "metadata": {
    "collapsed": true
   },
   "outputs": [],
   "source": [
    "def mean_reversion_strategy_backtest(date, series=Price, Open=Open, long_window=20, num_std=1.2, window_length = 20):\n",
    "     \n",
    "            \n",
    "    # EMA indicator\n",
    "    #bb_upper, bb_middle, bb_lower = compute_bollinger_band(series, long_window, num_std)\n",
    "    \n",
    "    # periods\n",
    "    window_index_s, window_index_e = get_window(date = date, series=series, window_length = 20)\n",
    "    \n",
    "        \n",
    "    current_period = series[window_index_s:window_index_e+1]\n",
    "    current_upper = bb_upper[window_index_s:window_index_e+1]\n",
    "    current_middle = bb_middle[window_index_s:window_index_e+1]\n",
    "    current_lower = bb_lower[window_index_s:window_index_e+1]\n",
    "    current_open = Open[window_index_s:window_index_e+2]\n",
    "    '''\n",
    "    plt.plot(current_upper,'r-')  \n",
    "    plt.plot(current_middle,'g-')  \n",
    "    plt.plot(current_lower,'r-')  \n",
    "    plt.plot(current_period,'b.-')\n",
    "    plt.show()\n",
    "    '''\n",
    "    # notice the the indicators are designed such that there is no chance of them overlap\n",
    "    # price cross lower from above\n",
    "    long_indicator = np.all([current_period < current_lower, current_period.shift(1) > current_lower.shift(1)], axis=0)\n",
    "        \n",
    "    # price cross middle from below\n",
    "    close_long_indicator = np.all([current_period > current_middle, current_period.shift(1) < current_middle.shift(1)], axis=0)\n",
    "    \n",
    "    # price cross middle from above\n",
    "    close_short_indicator = np.all([current_period < current_middle, current_period.shift(1) > current_middle.shift(1)], axis=0)\n",
    "        \n",
    "    # price cross upper from below\n",
    "    short_indicator = np.all([current_period > current_upper, current_period.shift(1) < current_upper.shift(1)], axis=0)\n",
    "        \n",
    "\n",
    "    # make the strategy\n",
    "    # if eixst position, close it anyway at end of the period\n",
    "    position = 0\n",
    "    pnl = 0\n",
    "    pre_price = 0\n",
    "    count = 0\n",
    "    for j in range(window_length):\n",
    "                \n",
    "        # long indicator is activated\n",
    "        if long_indicator[j] == True and position == 0:\n",
    "            position = 1\n",
    "            \n",
    "            #pre_price = current_period[j]\n",
    "            pre_price = current_open[j+1]  \n",
    "            \n",
    "        # close long indicator is activated\n",
    "        if close_long_indicator[j] == True and position == 1:\n",
    "            position = 0\n",
    "            \n",
    "            #pnl += current_period[j] - pre_price\n",
    "            pnl += current_open[j+1] - pre_price\n",
    "            \n",
    "            pre_price = 0\n",
    "            count += 1\n",
    "            \n",
    "        # short indicator is activated\n",
    "        if short_indicator[j] == True and position == 0:\n",
    "            position =  -1\n",
    "            #pre_price = current_period[j]\n",
    "            pre_price = current_open[j+1]  \n",
    "            \n",
    "            \n",
    "        # close short indicator is activated\n",
    "        if close_short_indicator[j] == True and position == -1:\n",
    "            position = 0\n",
    "            \n",
    "            pnl += pre_price - current_open[j+1]\n",
    "            #pnl += pre_price - current_period[j]\n",
    "            \n",
    "            pre_price = 0\n",
    "            count += 1\n",
    "                \n",
    "    # close any existing position\n",
    "    if position != 0:\n",
    "        if position == 1:\n",
    "            #pnl += current_period[window_length-1] - pre_price\n",
    "            pnl += current_open[window_length] - pre_price\n",
    "            count += 1\n",
    "        if position == -1:\n",
    "            #pnl += pre_price - current_period[window_length-1]\n",
    "            pnl +=  pre_price - current_open[window_length]\n",
    "            count += 1\n",
    "                 \n",
    "    return pnl, count"
   ]
  },
  {
   "cell_type": "code",
   "execution_count": 36,
   "metadata": {
    "scrolled": false
   },
   "outputs": [
    {
     "data": {
      "text/plain": [
       "(1.8592989999999929, 1)"
      ]
     },
     "execution_count": 36,
     "metadata": {},
     "output_type": "execute_result"
    }
   ],
   "source": [
    "mean_reversion_strategy_backtest('2000-06-22', series=Price, Open=Open, long_window=20, num_std=1.2, window_length = 20)"
   ]
  },
  {
   "cell_type": "markdown",
   "metadata": {},
   "source": [
    "## momentum strategy\n",
    "start from a certain day (i), check the pnl of next 20 days, return the value of pnl"
   ]
  },
  {
   "cell_type": "code",
   "execution_count": 37,
   "metadata": {
    "collapsed": true
   },
   "outputs": [],
   "source": [
    "# generate MACD_hist\n",
    "ema_26 = Price.ewm(26).mean()\n",
    "ema_12 = Price.ewm(12).mean()\n",
    "MACD_line = ema_12 - ema_26\n",
    "Sigal_line = MACD_line.ewm(9).mean()\n",
    "MACD_hist = MACD_line - Sigal_line"
   ]
  },
  {
   "cell_type": "code",
   "execution_count": 38,
   "metadata": {
    "collapsed": true
   },
   "outputs": [],
   "source": [
    "def momentum_strategy_backtest(date, series=Price, Open=Open, long_window=20,  window_length = 20):\n",
    "    # EMA indicator\n",
    "    #bb_upper, bb_middle, bb_lower = compute_bollinger_band(series, long_window, num_std)\n",
    "    \n",
    "    # periods\n",
    "    window_index_s, window_index_e = get_window(date = date, series=series, window_length = 20)\n",
    "    \n",
    "        \n",
    "    current_period = series[window_index_s:window_index_e+1]\n",
    "    current_MACD_hist = MACD_hist[window_index_s:window_index_e+1]\n",
    "    current_open = Open[window_index_s:window_index_e+2]\n",
    "\n",
    "    '''\n",
    "    _, ax1 = plt.subplots(figsize=(14,8))\n",
    "    ax1.plot(current_MACD_hist, c='r', label='hist')\n",
    "    ax1.legend(loc=2)\n",
    "    ax1.grid(True)\n",
    "    ax2 = ax1.twinx()\n",
    "    ax2.plot(current_period, c='black', label='price')\n",
    "    ax2.legend(loc=1)\n",
    "    plt.show()\n",
    "    '''\n",
    "    # notice the the indicators are designed such that there is no chance of them overlap\n",
    "    \n",
    "    # hist increases 3 consecutive days\n",
    "    long_indicator = np.all([current_MACD_hist.shift(-1) > current_MACD_hist, current_MACD_hist.shift(-2) > current_MACD_hist.shift(-1),current_MACD_hist.shift(-3) > current_MACD_hist.shift(-2), current_MACD_hist < 0], axis=0)\n",
    "  \n",
    "    # hist cross 0 from below\n",
    "    close_long_indicator = np.all([current_MACD_hist.shift(1) < 0 , current_MACD_hist > 0], axis=0)\n",
    "\n",
    "    # hist decreases 3 consecutive days\n",
    "    short_indicator = np.all([current_MACD_hist.shift(-1) < current_MACD_hist, current_MACD_hist.shift(-2) < current_MACD_hist.shift(-1),current_MACD_hist.shift(-3) < current_MACD_hist.shift(-2), current_MACD_hist < 0], axis=0)\n",
    "    \n",
    "     # hist cross 0 from above\n",
    "    close_short_indicator = np.all([current_MACD_hist.shift(1) > 0 , current_MACD_hist < 0], axis=0)\n",
    "        \n",
    "\n",
    "    # make the strategy\n",
    "    # if eixst position, close it anyway at end of the period\n",
    "    position = 0\n",
    "    pnl = 0\n",
    "    pre_price = 0\n",
    "    count = 0\n",
    "    for j in range(window_length):\n",
    "                \n",
    "        # long indicator is activated\n",
    "        if long_indicator[j] == True and position == 0:\n",
    "            position = 1\n",
    "            \n",
    "            #pre_price = current_period[j]\n",
    "            pre_price = current_open[j+1]  \n",
    "      \n",
    "        # close long indicator is activated\n",
    "        if close_long_indicator[j] == True and position == 1:\n",
    "            position = 0\n",
    "            \n",
    "            #pnl += current_period[j] - pre_price\n",
    "            pnl += current_open[j+1] - pre_price\n",
    "           \n",
    "            pre_price = 0\n",
    "            count += 1\n",
    "\n",
    "        # short indicator is activated\n",
    "        if short_indicator[j] == True and position == 0:\n",
    "            position =  -1\n",
    "            #pre_price = current_period[j]\n",
    "            pre_price = current_open[j+1]  \n",
    "            \n",
    "            \n",
    "        # close short indicator is activated\n",
    "        if close_short_indicator[j] == True and position == -1:\n",
    "            position = 0\n",
    "            \n",
    "            pnl += pre_price - current_open[j+1]\n",
    "            #pnl += pre_price - current_period[j]\n",
    "            \n",
    "            pre_price = 0\n",
    "            count += 1\n",
    "\n",
    "    # close any existing position\n",
    "    if position != 0:\n",
    "        if position == 1:\n",
    "            #pnl += current_period[window_length-1] - pre_price\n",
    "            pnl += current_open[window_length] - pre_price\n",
    "            count += 1\n",
    "\n",
    "        if position == -1:\n",
    "            #pnl += pre_price - current_period[window_length-1]\n",
    "            pnl +=  pre_price - current_open[window_length]\n",
    "            count += 1\n",
    "   \n",
    "                 \n",
    "    return pnl, count"
   ]
  },
  {
   "cell_type": "code",
   "execution_count": 39,
   "metadata": {},
   "outputs": [
    {
     "data": {
      "text/plain": [
       "(6.8125, 1)"
      ]
     },
     "execution_count": 39,
     "metadata": {},
     "output_type": "execute_result"
    }
   ],
   "source": [
    "momentum_strategy_backtest(date='2000-02-22', series=Price, Open=Open, long_window=20,  window_length = 20)"
   ]
  },
  {
   "cell_type": "markdown",
   "metadata": {},
   "source": [
    "## combine two strategies according to the mixed weight"
   ]
  },
  {
   "cell_type": "code",
   "execution_count": 40,
   "metadata": {
    "collapsed": true
   },
   "outputs": [],
   "source": [
    "weight_mean_reversion = np.arange(0, 1.01, 0.1)\n",
    "weight_momentum = 1- np.arange(0, 1.01, 0.1)"
   ]
  },
  {
   "cell_type": "code",
   "execution_count": 71,
   "metadata": {
    "collapsed": true
   },
   "outputs": [],
   "source": [
    "date = Indicators_useful.index.values"
   ]
  },
  {
   "cell_type": "code",
   "execution_count": 72,
   "metadata": {},
   "outputs": [],
   "source": [
    "length = int (len(date) * .95)\n",
    "label_arr = np.zeros(length)\n",
    "for i in range(length):\n",
    "    pnl = weight_momentum*momentum_strategy_backtest(date[i])[0] + weight_mean_reversion*mean_reversion_strategy_backtest(date[i])[0]\n",
    "    label_arr[i] = np.argmax(pnl)\n",
    "label = pd.DataFrame({'label':label_arr, 'Date':date[:length]}, columns=['label','Date']).set_index('Date')"
   ]
  },
  {
   "cell_type": "code",
   "execution_count": 73,
   "metadata": {},
   "outputs": [
    {
     "data": {
      "image/png": "[encoded data removed]",
      "text/plain": [
       "<matplotlib.figure.Figure at 0x10eb1ae10>"
      ]
     },
     "metadata": {},
     "output_type": "display_data"
    }
   ],
   "source": [
    "# 10 is mean reversion\n",
    "# 0 is momentum\n",
    "label.plot(kind='hist')\n",
    "plt.show()"
   ]
  },
  {
   "cell_type": "markdown",
   "metadata": {},
   "source": [
    "## combine two dataframes into one that we can use"
   ]
  },
  {
   "cell_type": "code",
   "execution_count": 74,
   "metadata": {},
   "outputs": [
    {
     "data": {
      "text/html": [
       "<div>\n",
       "<style>\n",
       "    .dataframe thead tr:only-child th {\n",
       "        text-align: right;\n",
       "    }\n",
       "\n",
       "    .dataframe thead th {\n",
       "        text-align: left;\n",
       "    }\n",
       "\n",
       "    .dataframe tbody tr th {\n",
       "        vertical-align: top;\n",
       "    }\n",
       "</style>\n",
       "<table border=\"1\" class=\"dataframe\">\n",
       "  <thead>\n",
       "    <tr style=\"text-align: right;\">\n",
       "      <th></th>\n",
       "      <th>hurst_exponent</th>\n",
       "      <th>sharpe_ratio</th>\n",
       "      <th>Volume</th>\n",
       "      <th>Open_pct</th>\n",
       "      <th>Close_pct</th>\n",
       "      <th>High_pct</th>\n",
       "      <th>Low_pct</th>\n",
       "    </tr>\n",
       "    <tr>\n",
       "      <th>Date</th>\n",
       "      <th></th>\n",
       "      <th></th>\n",
       "      <th></th>\n",
       "      <th></th>\n",
       "      <th></th>\n",
       "      <th></th>\n",
       "      <th></th>\n",
       "    </tr>\n",
       "  </thead>\n",
       "  <tbody>\n",
       "    <tr>\n",
       "      <th>2017-02-02</th>\n",
       "      <td>0.667610</td>\n",
       "      <td>0.674105</td>\n",
       "      <td>-0.367818</td>\n",
       "      <td>0.023745</td>\n",
       "      <td>0.025110</td>\n",
       "      <td>0.029049</td>\n",
       "      <td>0.024259</td>\n",
       "    </tr>\n",
       "    <tr>\n",
       "      <th>2017-02-03</th>\n",
       "      <td>0.673667</td>\n",
       "      <td>0.659600</td>\n",
       "      <td>-0.366786</td>\n",
       "      <td>0.042630</td>\n",
       "      <td>0.050051</td>\n",
       "      <td>0.058211</td>\n",
       "      <td>0.051894</td>\n",
       "    </tr>\n",
       "    <tr>\n",
       "      <th>2017-02-06</th>\n",
       "      <td>0.676936</td>\n",
       "      <td>0.645637</td>\n",
       "      <td>-0.376383</td>\n",
       "      <td>0.040603</td>\n",
       "      <td>0.039813</td>\n",
       "      <td>0.049743</td>\n",
       "      <td>0.049984</td>\n",
       "    </tr>\n",
       "    <tr>\n",
       "      <th>2017-02-07</th>\n",
       "      <td>0.682026</td>\n",
       "      <td>0.629111</td>\n",
       "      <td>-0.385458</td>\n",
       "      <td>0.046632</td>\n",
       "      <td>0.037235</td>\n",
       "      <td>0.053555</td>\n",
       "      <td>0.049960</td>\n",
       "    </tr>\n",
       "    <tr>\n",
       "      <th>2017-02-08</th>\n",
       "      <td>0.694372</td>\n",
       "      <td>0.610798</td>\n",
       "      <td>-0.397058</td>\n",
       "      <td>0.035954</td>\n",
       "      <td>0.039739</td>\n",
       "      <td>0.044232</td>\n",
       "      <td>0.039350</td>\n",
       "    </tr>\n",
       "  </tbody>\n",
       "</table>\n",
       "</div>"
      ],
      "text/plain": [
       "            hurst_exponent  sharpe_ratio    Volume  Open_pct  Close_pct  \\\n",
       "Date                                                                      \n",
       "2017-02-02        0.667610      0.674105 -0.367818  0.023745   0.025110   \n",
       "2017-02-03        0.673667      0.659600 -0.366786  0.042630   0.050051   \n",
       "2017-02-06        0.676936      0.645637 -0.376383  0.040603   0.039813   \n",
       "2017-02-07        0.682026      0.629111 -0.385458  0.046632   0.037235   \n",
       "2017-02-08        0.694372      0.610798 -0.397058  0.035954   0.039739   \n",
       "\n",
       "            High_pct   Low_pct  \n",
       "Date                            \n",
       "2017-02-02  0.029049  0.024259  \n",
       "2017-02-03  0.058211  0.051894  \n",
       "2017-02-06  0.049743  0.049984  \n",
       "2017-02-07  0.053555  0.049960  \n",
       "2017-02-08  0.044232  0.039350  "
      ]
     },
     "execution_count": 74,
     "metadata": {},
     "output_type": "execute_result"
    }
   ],
   "source": [
    "Indicators_useful_bloc[:length].tail()"
   ]
  },
  {
   "cell_type": "code",
   "execution_count": 75,
   "metadata": {
    "collapsed": true
   },
   "outputs": [],
   "source": [
    "training_df = pd.concat([Indicators_useful_bloc[:length], label], axis=1)"
   ]
  },
  {
   "cell_type": "markdown",
   "metadata": {},
   "source": [
    "# Model Building\n",
    "We will try random forest and gradient boosting model for our task.\n",
    "\n",
    "Notice that here we have either 10 or 0. Therefore we only use 1 and 0 as label.\n",
    "\n",
    "The training data will be split by 4:1, 4 for training and 1 for validation"
   ]
  },
  {
   "cell_type": "markdown",
   "metadata": {},
   "source": [
    "## Using a fixed weight\n",
    "The weight is the exponential decaying weight"
   ]
  },
  {
   "cell_type": "code",
   "execution_count": 76,
   "metadata": {
    "scrolled": true
   },
   "outputs": [
    {
     "data": {
      "text/html": [
       "<div>\n",
       "<style>\n",
       "    .dataframe thead tr:only-child th {\n",
       "        text-align: right;\n",
       "    }\n",
       "\n",
       "    .dataframe thead th {\n",
       "        text-align: left;\n",
       "    }\n",
       "\n",
       "    .dataframe tbody tr th {\n",
       "        vertical-align: top;\n",
       "    }\n",
       "</style>\n",
       "<table border=\"1\" class=\"dataframe\">\n",
       "  <thead>\n",
       "    <tr style=\"text-align: right;\">\n",
       "      <th></th>\n",
       "      <th>hurst_exponent</th>\n",
       "      <th>sharpe_ratio</th>\n",
       "      <th>Volume</th>\n",
       "      <th>Open_pct</th>\n",
       "      <th>Close_pct</th>\n",
       "      <th>High_pct</th>\n",
       "      <th>Low_pct</th>\n",
       "      <th>label</th>\n",
       "    </tr>\n",
       "    <tr>\n",
       "      <th>Date</th>\n",
       "      <th></th>\n",
       "      <th></th>\n",
       "      <th></th>\n",
       "      <th></th>\n",
       "      <th></th>\n",
       "      <th></th>\n",
       "      <th></th>\n",
       "      <th></th>\n",
       "    </tr>\n",
       "  </thead>\n",
       "  <tbody>\n",
       "    <tr>\n",
       "      <th>2017-02-02</th>\n",
       "      <td>0.667610</td>\n",
       "      <td>0.674105</td>\n",
       "      <td>-0.367818</td>\n",
       "      <td>0.023745</td>\n",
       "      <td>0.025110</td>\n",
       "      <td>0.029049</td>\n",
       "      <td>0.024259</td>\n",
       "      <td>0.0</td>\n",
       "    </tr>\n",
       "    <tr>\n",
       "      <th>2017-02-03</th>\n",
       "      <td>0.673667</td>\n",
       "      <td>0.659600</td>\n",
       "      <td>-0.366786</td>\n",
       "      <td>0.042630</td>\n",
       "      <td>0.050051</td>\n",
       "      <td>0.058211</td>\n",
       "      <td>0.051894</td>\n",
       "      <td>0.0</td>\n",
       "    </tr>\n",
       "    <tr>\n",
       "      <th>2017-02-06</th>\n",
       "      <td>0.676936</td>\n",
       "      <td>0.645637</td>\n",
       "      <td>-0.376383</td>\n",
       "      <td>0.040603</td>\n",
       "      <td>0.039813</td>\n",
       "      <td>0.049743</td>\n",
       "      <td>0.049984</td>\n",
       "      <td>0.0</td>\n",
       "    </tr>\n",
       "    <tr>\n",
       "      <th>2017-02-07</th>\n",
       "      <td>0.682026</td>\n",
       "      <td>0.629111</td>\n",
       "      <td>-0.385458</td>\n",
       "      <td>0.046632</td>\n",
       "      <td>0.037235</td>\n",
       "      <td>0.053555</td>\n",
       "      <td>0.049960</td>\n",
       "      <td>0.0</td>\n",
       "    </tr>\n",
       "    <tr>\n",
       "      <th>2017-02-08</th>\n",
       "      <td>0.694372</td>\n",
       "      <td>0.610798</td>\n",
       "      <td>-0.397058</td>\n",
       "      <td>0.035954</td>\n",
       "      <td>0.039739</td>\n",
       "      <td>0.044232</td>\n",
       "      <td>0.039350</td>\n",
       "      <td>10.0</td>\n",
       "    </tr>\n",
       "  </tbody>\n",
       "</table>\n",
       "</div>"
      ],
      "text/plain": [
       "            hurst_exponent  sharpe_ratio    Volume  Open_pct  Close_pct  \\\n",
       "Date                                                                      \n",
       "2017-02-02        0.667610      0.674105 -0.367818  0.023745   0.025110   \n",
       "2017-02-03        0.673667      0.659600 -0.366786  0.042630   0.050051   \n",
       "2017-02-06        0.676936      0.645637 -0.376383  0.040603   0.039813   \n",
       "2017-02-07        0.682026      0.629111 -0.385458  0.046632   0.037235   \n",
       "2017-02-08        0.694372      0.610798 -0.397058  0.035954   0.039739   \n",
       "\n",
       "            High_pct   Low_pct  label  \n",
       "Date                                   \n",
       "2017-02-02  0.029049  0.024259    0.0  \n",
       "2017-02-03  0.058211  0.051894    0.0  \n",
       "2017-02-06  0.049743  0.049984    0.0  \n",
       "2017-02-07  0.053555  0.049960    0.0  \n",
       "2017-02-08  0.044232  0.039350   10.0  "
      ]
     },
     "execution_count": 76,
     "metadata": {},
     "output_type": "execute_result"
    }
   ],
   "source": [
    "training_df.tail()"
   ]
  },
  {
   "cell_type": "code",
   "execution_count": 77,
   "metadata": {
    "collapsed": true
   },
   "outputs": [],
   "source": [
    "total_length = len(training_df)\n",
    "train_length = int(.8 * total_length)\n",
    "test_length = total_length - train_length\n",
    "train_set = training_df[:train_length]\n",
    "test_set = training_df[train_length+1:]"
   ]
  },
  {
   "cell_type": "code",
   "execution_count": 78,
   "metadata": {
    "collapsed": true
   },
   "outputs": [],
   "source": [
    "# build the training and test data\n",
    "n_row, n_col = train_set.shape\n",
    "train_x = train_set.iloc[:,0:n_col-1]\n",
    "train_y = train_set.iloc[:,n_col-1]\n",
    "train_y_classification = train_y.copy()\n",
    "train_y_classification[train_y_classification>5] = 1\n",
    "train_y_classification = train_y_classification.astype('int32')\n",
    "test_x = test_set.iloc[:,0:n_col-1]\n",
    "test_y =  test_set.iloc[:,n_col-1]\n",
    "test_y_classification = test_y.copy()\n",
    "test_y_classification[test_y_classification>5] = 1\n",
    "test_y_classification = test_y_classification.astype('int32')"
   ]
  },
  {
   "cell_type": "code",
   "execution_count": 79,
   "metadata": {},
   "outputs": [],
   "source": [
    "from sklearn.ensemble import GradientBoostingClassifier\n",
    "from sklearn import metrics\n",
    "from sklearn.model_selection import cross_val_score"
   ]
  },
  {
   "cell_type": "code",
   "execution_count": 80,
   "metadata": {
    "collapsed": true
   },
   "outputs": [],
   "source": [
    "def classification_process(estimator, train_x, train_y_classification, test_x, test_y_classification):\n",
    "    estimator.fit(train_x, train_y_classification)\n",
    "    test_y_predict_classification = estimator.predict(test_x)\n",
    "    print ('{} accuracy = {:.2f}'.format(estimator.__class__.__name__, \n",
    "                                         metrics.accuracy_score(test_y_classification, test_y_predict_classification)))"
   ]
  },
  {
   "cell_type": "code",
   "execution_count": 92,
   "metadata": {
    "scrolled": false
   },
   "outputs": [
    {
     "name": "stdout",
     "output_type": "stream",
     "text": [
      "GradientBoostingClassifier accuracy = 0.57\n"
     ]
    }
   ],
   "source": [
    "estimator = GradientBoostingClassifier(n_estimators=500)\n",
    "classification_process(estimator, train_x, train_y_classification, test_x, test_y_classification)"
   ]
  },
  {
   "cell_type": "markdown",
   "metadata": {},
   "source": [
    "### make inference and generate PNL for test data"
   ]
  },
  {
   "cell_type": "code",
   "execution_count": 93,
   "metadata": {},
   "outputs": [
    {
     "name": "stdout",
     "output_type": "stream",
     "text": [
      "importance for sharpe ratio is 0.159329\n",
      "importance for volume is 0.250063\n",
      "importance for hurst_exponent is 0.294582\n",
      "importance for open is 0.085402\n",
      "importance for close is 0.084123\n",
      "importance for high is 0.066073\n",
      "importance for low is 0.060429\n"
     ]
    }
   ],
   "source": [
    "prediction = estimator.predict(test_x)\n",
    "importance = estimator.feature_importances_\n",
    "features = ('sharpe ratio','volume','hurst_exponent','open','close','high','low')\n",
    "for i in zip(importance, features):\n",
    "    print ('importance for {0} is {1:3f}'.format(i[1], i[0]))\n",
    "date = test_x.index.values\n",
    "prediction_df = pd.DataFrame({'prediction':prediction, 'date':date},columns = ['prediction','date']).set_index('date')"
   ]
  },
  {
   "cell_type": "code",
   "execution_count": 97,
   "metadata": {},
   "outputs": [
    {
     "data": {
      "text/html": [
       "<div>\n",
       "<style>\n",
       "    .dataframe thead tr:only-child th {\n",
       "        text-align: right;\n",
       "    }\n",
       "\n",
       "    .dataframe thead th {\n",
       "        text-align: left;\n",
       "    }\n",
       "\n",
       "    .dataframe tbody tr th {\n",
       "        vertical-align: top;\n",
       "    }\n",
       "</style>\n",
       "<table border=\"1\" class=\"dataframe\">\n",
       "  <thead>\n",
       "    <tr style=\"text-align: right;\">\n",
       "      <th></th>\n",
       "      <th>prediction</th>\n",
       "    </tr>\n",
       "    <tr>\n",
       "      <th>date</th>\n",
       "      <th></th>\n",
       "    </tr>\n",
       "  </thead>\n",
       "  <tbody>\n",
       "    <tr>\n",
       "      <th>2017-01-11</th>\n",
       "      <td>1</td>\n",
       "    </tr>\n",
       "    <tr>\n",
       "      <th>2017-01-12</th>\n",
       "      <td>1</td>\n",
       "    </tr>\n",
       "    <tr>\n",
       "      <th>2017-01-13</th>\n",
       "      <td>1</td>\n",
       "    </tr>\n",
       "    <tr>\n",
       "      <th>2017-01-17</th>\n",
       "      <td>1</td>\n",
       "    </tr>\n",
       "    <tr>\n",
       "      <th>2017-01-18</th>\n",
       "      <td>1</td>\n",
       "    </tr>\n",
       "    <tr>\n",
       "      <th>2017-01-19</th>\n",
       "      <td>1</td>\n",
       "    </tr>\n",
       "    <tr>\n",
       "      <th>2017-01-20</th>\n",
       "      <td>1</td>\n",
       "    </tr>\n",
       "    <tr>\n",
       "      <th>2017-01-23</th>\n",
       "      <td>1</td>\n",
       "    </tr>\n",
       "    <tr>\n",
       "      <th>2017-01-24</th>\n",
       "      <td>1</td>\n",
       "    </tr>\n",
       "    <tr>\n",
       "      <th>2017-01-25</th>\n",
       "      <td>1</td>\n",
       "    </tr>\n",
       "    <tr>\n",
       "      <th>2017-01-26</th>\n",
       "      <td>0</td>\n",
       "    </tr>\n",
       "    <tr>\n",
       "      <th>2017-01-27</th>\n",
       "      <td>1</td>\n",
       "    </tr>\n",
       "    <tr>\n",
       "      <th>2017-01-30</th>\n",
       "      <td>1</td>\n",
       "    </tr>\n",
       "    <tr>\n",
       "      <th>2017-01-31</th>\n",
       "      <td>1</td>\n",
       "    </tr>\n",
       "    <tr>\n",
       "      <th>2017-02-01</th>\n",
       "      <td>1</td>\n",
       "    </tr>\n",
       "    <tr>\n",
       "      <th>2017-02-02</th>\n",
       "      <td>1</td>\n",
       "    </tr>\n",
       "    <tr>\n",
       "      <th>2017-02-03</th>\n",
       "      <td>1</td>\n",
       "    </tr>\n",
       "    <tr>\n",
       "      <th>2017-02-06</th>\n",
       "      <td>1</td>\n",
       "    </tr>\n",
       "    <tr>\n",
       "      <th>2017-02-07</th>\n",
       "      <td>0</td>\n",
       "    </tr>\n",
       "    <tr>\n",
       "      <th>2017-02-08</th>\n",
       "      <td>1</td>\n",
       "    </tr>\n",
       "  </tbody>\n",
       "</table>\n",
       "</div>"
      ],
      "text/plain": [
       "            prediction\n",
       "date                  \n",
       "2017-01-11           1\n",
       "2017-01-12           1\n",
       "2017-01-13           1\n",
       "2017-01-17           1\n",
       "2017-01-18           1\n",
       "2017-01-19           1\n",
       "2017-01-20           1\n",
       "2017-01-23           1\n",
       "2017-01-24           1\n",
       "2017-01-25           1\n",
       "2017-01-26           0\n",
       "2017-01-27           1\n",
       "2017-01-30           1\n",
       "2017-01-31           1\n",
       "2017-02-01           1\n",
       "2017-02-02           1\n",
       "2017-02-03           1\n",
       "2017-02-06           1\n",
       "2017-02-07           0\n",
       "2017-02-08           1"
      ]
     },
     "execution_count": 97,
     "metadata": {},
     "output_type": "execute_result"
    }
   ],
   "source": [
    "prediction_df.tail(20)"
   ]
  },
  {
   "cell_type": "code",
   "execution_count": 98,
   "metadata": {
    "scrolled": false
   },
   "outputs": [
    {
     "name": "stdout",
     "output_type": "stream",
     "text": [
      "total pnl for 854 days is 112.010027\n",
      "benchmark pnl is 60.050003\n"
     ]
    },
    {
     "data": {
      "image/png": "[encoded data removed]",
      "text/plain": [
       "<matplotlib.figure.Figure at 0x1a163b8550>"
      ]
     },
     "metadata": {},
     "output_type": "display_data"
    }
   ],
   "source": [
    "# generate pnl\n",
    "# use majority vote\n",
    "# 0 momentum, 1 mean reversion\n",
    "# choose 2010-03-10 because we have labels for it 10 days before\n",
    "start_date = prediction_df.index.values[11]\n",
    "end_date = prediction_df.index.values[len(prediction_df)-1]\n",
    "#start_date = pd.to_datetime('2010-03-10')\n",
    "index = prediction_df.index.get_loc(start_date)\n",
    "total_pnl = 0\n",
    "pnl_record = []\n",
    "date_record = []\n",
    "\n",
    "period = []\n",
    "for i in np.arange(index, len(test_x), 20):\n",
    "    \n",
    "    low_bound = i - 10\n",
    "    information = prediction_df[low_bound:i]\n",
    "    date = prediction_df.index.values[i]\n",
    "    \n",
    "    if information.sum().values[0]<5:\n",
    "        pnl = momentum_strategy_backtest(date)[0]\n",
    "        period.append(('momentum',date))\n",
    "    else:\n",
    "        pnl = mean_reversion_strategy_backtest(date)[0]\n",
    "        period.append(('mean reversion',date))\n",
    "        \n",
    "    total_pnl += pnl\n",
    "   \n",
    "    date_record.append(test_x.index.values[i])    \n",
    "    pnl_record.append(pnl) \n",
    "    \n",
    "date_record = np.array(date_record)\n",
    "pnl_record = np.array(pnl_record).cumsum()\n",
    "\n",
    "s_index = Indicators_useful.index.get_loc(start_date)\n",
    "e_index = Indicators_useful.index.get_loc(end_date)\n",
    "bench_mark = Indicators_useful_bn[s_index:e_index]\n",
    "bench_mark\n",
    "bench_mark_pnl = bench_mark['Close'].diff().cumsum()\n",
    "\n",
    "pnl_df = pd.DataFrame({'cumulative_pnl':pnl_record, 'date':date_record}, columns=['cumulative_pnl','date']).set_index('date')\n",
    "end_date = pd.to_datetime(prediction_df.index.values[len(test_x)-1])\n",
    "\n",
    "print ('total pnl for {0} days is {1:3f}'.format(len(test_x),total_pnl))  \n",
    "print ('benchmark pnl is {0:3f}'.format(bench_mark['Close'][len(bench_mark)-1]-bench_mark['Close'][0]))\n",
    "pnl_df.plot()\n",
    "plt.plot(bench_mark_pnl, label='benchmark_pnl')\n",
    "plt.legend()\n",
    "plt.show()"
   ]
  },
  {
   "cell_type": "markdown",
   "metadata": {},
   "source": [
    "## Using LSTM"
   ]
  },
  {
   "cell_type": "code",
   "execution_count": null,
   "metadata": {
    "collapsed": true
   },
   "outputs": [],
   "source": [
    "training_df = pd.concat([Indicators_useful[:length], label], axis=1)"
   ]
  },
  {
   "cell_type": "code",
   "execution_count": null,
   "metadata": {},
   "outputs": [],
   "source": [
    "training_df.head(5)"
   ]
  },
  {
   "cell_type": "code",
   "execution_count": null,
   "metadata": {
    "collapsed": true
   },
   "outputs": [],
   "source": [
    "n_row, n_col = train_set.shape\n",
    "train_x = train_set.iloc[:,0:n_col-1]\n",
    "train_y = train_set.iloc[:,n_col-1]\n",
    "train_y_classification = train_y.copy()\n",
    "train_y_classification[train_y_classification>5] = 1\n",
    "train_y_classification = train_y_classification.astype('int32')\n",
    "test_x = test_set.iloc[:,0:n_col-1]\n",
    "test_y =  test_set.iloc[:,n_col-1]\n",
    "test_y_classification = test_y.copy()\n",
    "test_y_classification[test_y_classification>5] = 1\n",
    "test_y_classification = test_y_classification.astype('int32')"
   ]
  },
  {
   "cell_type": "code",
   "execution_count": null,
   "metadata": {},
   "outputs": [],
   "source": [
    "test_y[:200].plot()\n",
    "plt.show()"
   ]
  }
 ],
 "metadata": {
  "kernelspec": {
   "display_name": "Python 3",
   "language": "python",
   "name": "python3"
  },
  "language_info": {
   "codemirror_mode": {
    "name": "ipython",
    "version": 3
   },
   "file_extension": ".py",
   "mimetype": "text/x-python",
   "name": "python",
   "nbconvert_exporter": "python",
   "pygments_lexer": "ipython3",
   "version": "3.6.3"
  },
  "toc": {
   "nav_menu": {},
   "number_sections": true,
   "sideBar": true,
   "skip_h1_title": false,
   "title_cell": "Table of Contents",
   "title_sidebar": "Contents",
   "toc_cell": false,
   "toc_position": {},
   "toc_section_display": true,
   "toc_window_display": false
  }
 },
 "nbformat": 4,
 "nbformat_minor": 2
}
